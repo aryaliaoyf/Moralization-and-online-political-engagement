{
 "cells": [
  {
   "cell_type": "code",
   "execution_count": 1,
   "id": "893e9d04-29db-47b1-a71f-d330e703e1a9",
   "metadata": {},
   "outputs": [],
   "source": [
    "import pandas as pd\n",
    "import numpy as np\n",
    "import os, csv\n",
    "import re, json"
   ]
  },
  {
   "cell_type": "markdown",
   "id": "6d6e388f-d894-4174-b30f-2194ad486820",
   "metadata": {
    "tags": []
   },
   "source": [
    "### extract moral dictionary"
   ]
  },
  {
   "cell_type": "code",
   "execution_count": 3,
   "id": "881c0e7e-9770-4ae5-801e-c052dfc86f4f",
   "metadata": {},
   "outputs": [
    {
     "data": {
      "text/html": [
       "<div>\n",
       "<style scoped>\n",
       "    .dataframe tbody tr th:only-of-type {\n",
       "        vertical-align: middle;\n",
       "    }\n",
       "\n",
       "    .dataframe tbody tr th {\n",
       "        vertical-align: top;\n",
       "    }\n",
       "\n",
       "    .dataframe thead th {\n",
       "        text-align: right;\n",
       "    }\n",
       "</style>\n",
       "<table border=\"1\" class=\"dataframe\">\n",
       "  <thead>\n",
       "    <tr style=\"text-align: right;\">\n",
       "      <th></th>\n",
       "      <th>词语</th>\n",
       "      <th>标签</th>\n",
       "      <th>类型</th>\n",
       "      <th>备注</th>\n",
       "    </tr>\n",
       "  </thead>\n",
       "  <tbody>\n",
       "    <tr>\n",
       "      <th>0</th>\n",
       "      <td>骗财骗色/n</td>\n",
       "      <td>2</td>\n",
       "      <td>1</td>\n",
       "      <td>行为</td>\n",
       "    </tr>\n",
       "    <tr>\n",
       "      <th>1</th>\n",
       "      <td>丑化/n</td>\n",
       "      <td>2</td>\n",
       "      <td>1</td>\n",
       "      <td>行为</td>\n",
       "    </tr>\n",
       "    <tr>\n",
       "      <th>2</th>\n",
       "      <td>变相加价/n</td>\n",
       "      <td>2</td>\n",
       "      <td>1</td>\n",
       "      <td>行为</td>\n",
       "    </tr>\n",
       "    <tr>\n",
       "      <th>3</th>\n",
       "      <td>剥夺走/n</td>\n",
       "      <td>2</td>\n",
       "      <td>1</td>\n",
       "      <td>行为</td>\n",
       "    </tr>\n",
       "    <tr>\n",
       "      <th>4</th>\n",
       "      <td>剥夺权利/n</td>\n",
       "      <td>2</td>\n",
       "      <td>1</td>\n",
       "      <td>行为</td>\n",
       "    </tr>\n",
       "    <tr>\n",
       "      <th>...</th>\n",
       "      <td>...</td>\n",
       "      <td>...</td>\n",
       "      <td>...</td>\n",
       "      <td>...</td>\n",
       "    </tr>\n",
       "    <tr>\n",
       "      <th>7642</th>\n",
       "      <td>盲目建设</td>\n",
       "      <td>2</td>\n",
       "      <td>1</td>\n",
       "      <td>行为</td>\n",
       "    </tr>\n",
       "    <tr>\n",
       "      <th>7643</th>\n",
       "      <td>低水平重复建设</td>\n",
       "      <td>2</td>\n",
       "      <td>1</td>\n",
       "      <td>行为</td>\n",
       "    </tr>\n",
       "    <tr>\n",
       "      <th>7644</th>\n",
       "      <td>重复建设</td>\n",
       "      <td>2</td>\n",
       "      <td>1</td>\n",
       "      <td>行为</td>\n",
       "    </tr>\n",
       "    <tr>\n",
       "      <th>7645</th>\n",
       "      <td>不遵守纪律</td>\n",
       "      <td>2</td>\n",
       "      <td>1</td>\n",
       "      <td>行为</td>\n",
       "    </tr>\n",
       "    <tr>\n",
       "      <th>7646</th>\n",
       "      <td>骄傲自大/i</td>\n",
       "      <td>2</td>\n",
       "      <td>2</td>\n",
       "      <td>状态</td>\n",
       "    </tr>\n",
       "  </tbody>\n",
       "</table>\n",
       "<p>7647 rows × 4 columns</p>\n",
       "</div>"
      ],
      "text/plain": [
       "           词语  标签  类型  备注\n",
       "0      骗财骗色/n   2   1  行为\n",
       "1        丑化/n   2   1  行为\n",
       "2      变相加价/n   2   1  行为\n",
       "3       剥夺走/n   2   1  行为\n",
       "4      剥夺权利/n   2   1  行为\n",
       "...       ...  ..  ..  ..\n",
       "7642     盲目建设   2   1  行为\n",
       "7643  低水平重复建设   2   1  行为\n",
       "7644     重复建设   2   1  行为\n",
       "7645    不遵守纪律   2   1  行为\n",
       "7646   骄傲自大/i   2   2  状态\n",
       "\n",
       "[7647 rows x 4 columns]"
      ]
     },
     "execution_count": 3,
     "metadata": {},
     "output_type": "execute_result"
    }
   ],
   "source": [
    "moral_dict_neu = pd.read_excel('中文道德词典.xlsx',sheet_name='0')\n",
    "moral_dict_pos = pd.read_excel('中文道德词典.xlsx',sheet_name='1')\n",
    "moral_dict_neg = pd.read_excel('中文道德词典.xlsx',sheet_name='2')\n",
    "moral_dict_pas = pd.read_excel('中文道德词典.xlsx',sheet_name='3')\n",
    "moral_dict_neg"
   ]
  },
  {
   "cell_type": "code",
   "execution_count": 4,
   "id": "b09b3041-3b9f-43e7-931f-90557ca3b6a1",
   "metadata": {},
   "outputs": [],
   "source": [
    "def extract_chinese_words(text):\n",
    "    pattern = r\"([\\u4e00-\\u9fff]+)\"  # 匹配中文字符的正则表达式\n",
    "    matches = re.findall(pattern, text)\n",
    "    return ' '.join(matches)"
   ]
  },
  {
   "cell_type": "code",
   "execution_count": 5,
   "id": "7931cb6d-7fe2-4051-b73a-33729d694694",
   "metadata": {},
   "outputs": [],
   "source": [
    "moral_list = {}\n",
    "moral_list[\"neu\"] = moral_dict_neu[\"词语\"].apply(lambda x: extract_chinese_words(x)).to_list()\n",
    "moral_list[\"pos\"] = moral_dict_pos[\"词语\"].apply(lambda x: extract_chinese_words(x)).to_list()\n",
    "moral_list[\"neg\"] = moral_dict_neg[\"词语\"].apply(lambda x: extract_chinese_words(x)).to_list()\n",
    "moral_list[\"pas\"] = moral_dict_pas[\"词语\"].apply(lambda x: extract_chinese_words(x)).to_list()"
   ]
  },
  {
   "cell_type": "code",
   "execution_count": 6,
   "id": "c7a4861e-4e9e-44f8-9b78-53b4dfb517b7",
   "metadata": {},
   "outputs": [],
   "source": [
    "with open(\"moral_dictionary.txt\", \"w\") as file:\n",
    "    dict_string = str(moral_list)\n",
    "    file.write(json.dumps(moral_list, ensure_ascii=False))"
   ]
  },
  {
   "cell_type": "markdown",
   "id": "10b6637d-9783-4452-831e-2be3ec99d6e9",
   "metadata": {},
   "source": [
    "### read dictionary"
   ]
  },
  {
   "cell_type": "code",
   "execution_count": 7,
   "id": "d1a8313f-acc4-4193-b27d-e75f2a4e6820",
   "metadata": {},
   "outputs": [],
   "source": [
    "with open(\"moral_dictionary.txt\", \"r\") as f:\n",
    "    s = f.read()\n",
    "    moral_list = json.loads(s)"
   ]
  },
  {
   "cell_type": "code",
   "execution_count": 8,
   "id": "2833b2fb-0037-4687-9d5e-15da27f9b11b",
   "metadata": {},
   "outputs": [],
   "source": [
    "moral_keys = ['neu','pos','neg','pas']"
   ]
  },
  {
   "cell_type": "code",
   "execution_count": 9,
   "id": "bf66123c-2922-4831-b7ea-8e436323ee33",
   "metadata": {},
   "outputs": [
    {
     "name": "stdout",
     "output_type": "stream",
     "text": [
      "neu 8963\n",
      "pos 7912\n",
      "neg 7647\n",
      "pas 490\n"
     ]
    }
   ],
   "source": [
    "for key in moral_keys:\n",
    "    print(key, len(moral_list[key]))"
   ]
  },
  {
   "cell_type": "code",
   "execution_count": null,
   "id": "0f217a00-02d1-4f23-8ae8-825d591c9f09",
   "metadata": {},
   "outputs": [],
   "source": []
  }
 ],
 "metadata": {
  "kernelspec": {
   "display_name": "Python 3 (ipykernel)",
   "language": "python",
   "name": "python3"
  },
  "language_info": {
   "codemirror_mode": {
    "name": "ipython",
    "version": 3
   },
   "file_extension": ".py",
   "mimetype": "text/x-python",
   "name": "python",
   "nbconvert_exporter": "python",
   "pygments_lexer": "ipython3",
   "version": "3.9.7"
  }
 },
 "nbformat": 4,
 "nbformat_minor": 5
}
