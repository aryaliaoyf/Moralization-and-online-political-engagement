{
 "cells": [
  {
   "cell_type": "code",
   "execution_count": 1,
   "id": "7c75984a-4ca6-4abe-a35c-80a145315019",
   "metadata": {},
   "outputs": [],
   "source": [
    "import requests\n",
    "import csv, re, os\n",
    "import json\n",
    "import pandas as pd\n",
    "import numpy as np\n",
    "from time import sleep"
   ]
  },
  {
   "cell_type": "code",
   "execution_count": 2,
   "id": "5857b9c5-5b1a-4d0f-97f5-8e265d223003",
   "metadata": {},
   "outputs": [],
   "source": [
    "answers = pd.read_csv('weibo/weibo.csv',dtype=object)\n",
    "savefile = 'weibo/weibo_comments.csv'\n",
    "savefile_root = 'weibo/weibo_root_count.csv'"
   ]
  },
  {
   "cell_type": "code",
   "execution_count": 3,
   "id": "3db5ea66-7a58-4dc6-9d2e-ac131e6b5f09",
   "metadata": {},
   "outputs": [
    {
     "ename": "SyntaxError",
     "evalue": "invalid syntax (390691622.py, line 1)",
     "output_type": "error",
     "traceback": [
      "\u001b[0;36m  File \u001b[0;32m\"/var/folders/8v/xpk1jpgx2kbgxh9xl6dwblt00000gp/T/ipykernel_34678/390691622.py\"\u001b[0;36m, line \u001b[0;32m1\u001b[0m\n\u001b[0;31m    with open(savefile, 'a+') as fc open(savefile_root, 'a+') as fr:\u001b[0m\n\u001b[0m                                    ^\u001b[0m\n\u001b[0;31mSyntaxError\u001b[0m\u001b[0;31m:\u001b[0m invalid syntax\n"
     ]
    }
   ],
   "source": [
    "with open(savefile, 'a+') as fc open(savefile_root, 'a+') as fr:\n",
    "    header_fc = ['answer_id','answer_content','comment_id','created_time','comment_content','comment_upvote',\n",
    "              'child_comments_count','author_info','author_gender']\n",
    "    writer_fc = csv.DictWriter(fc, delimiter=',', lineterminator='\\n',fieldnames=header)\n",
    "    if not os.path.getsize(savefile):\n",
    "        writer_fc.writeheader()\n",
    "\n",
    "    header_fr = ['answer_id','root_comment']\n",
    "    writer_fr = csv.DictWriter(fr, delimiter=',', lineterminator='\\n',fieldnames=header)\n",
    "    if not os.path.getsize(savefile_root):\n",
    "        writer_fr.writeheader()\n",
    "\n",
    "    for index, row in weibos.iterrows():\n",
    "        page = 0\n",
    "        root_comment = 0\n",
    "        while True:\n",
    "            start_url = f'https://m.weibo.cn/comments/hotflow?id={mid}&mid={mid}&max_id_type={page}'\n",
    "            try:\n",
    "                res = json.loads(requests.get(start_url).text)\n",
    "            except:\n",
    "                break\n",
    "            for d in res['data']['data']:\n",
    "                comment_id = d['id']\n",
    "                comment_content = re.sub('<.+>', '', d['text'])\n",
    "                author_location = d['source'].replace('来自','')\n",
    "                author_info = d['user']['profile_url']\n",
    "                author_gender = d['user']['gender']\n",
    "                author_following = d['user']['follow_count']\n",
    "                author_followers = d['user']['followers_count']\n",
    "                child_comments_count = d['total_number']\n",
    "                comment_like = d['like_count']\n",
    "                writer_fc.writerow({'answer_id':row['mid'], 'answer_content':row['text'],'comment_id':comment_id,\n",
    "                                 'created_time':d['created_at'],'comment_content':comment_content,'comment_upvote':comment_like,\n",
    "                                 'child_comments_count':child_comments_count,'author_info':author_info,'author_gender':author_gender,\n",
    "                                 'author_location':author_location,'author_following':author_following,'author_followers':author_followers})\n",
    "            page += 1\n",
    "            root_comment += len(res['data']['data'])\n",
    "            sleep(random.uniform(3, 5))\n",
    "        writer_fr.writerow('answer_id':row['mid'],'root_comment':root_comment)"
   ]
  },
  {
   "cell_type": "code",
   "execution_count": null,
   "id": "396fa189-d304-45d2-8a70-0808dbd725ae",
   "metadata": {},
   "outputs": [],
   "source": [
    "import csv\n",
    "\n",
    "# Define a function to extract the root comment from the mid column\n",
    "def get_root_comment(mid):\n",
    "    # Your logic to extract the root comment from mid column here\n",
    "    root_comment = mid[0:4]\n",
    "    return root_comment\n",
    "\n",
    "# Open the input and output CSV files\n",
    "with open('weibo/weibo_copy-Copy1.csv', 'r') as input_file, open('weibo/weibo_copy-Copy2.csv', 'w', newline='') as output_file:\n",
    "    # Create CSV reader and writer objects\n",
    "    reader = csv.reader(input_file)\n",
    "    writer = csv.writer(output_file)\n",
    "\n",
    "    # Write the header row to the output file\n",
    "    header = next(reader)\n",
    "    header.append('root_comment')\n",
    "    writer.writerow(header)\n",
    "\n",
    "    # Iterate over each row in the input file\n",
    "    for row in reader:\n",
    "        # Extract the value of the 'mid' column\n",
    "        mid = row[0]\n",
    "\n",
    "        # Generate the root comment based on the mid value\n",
    "        root_comment = get_root_comment(mid)\n",
    "\n",
    "        # Append the root comment value to the row\n",
    "        row.append(root_comment)\n",
    "\n",
    "        # Write the updated row to the output file\n",
    "        writer.writerow(row)\n"
   ]
  },
  {
   "cell_type": "code",
   "execution_count": null,
   "id": "a4393e03-f25a-4367-a213-7d12c862d2d2",
   "metadata": {},
   "outputs": [],
   "source": []
  }
 ],
 "metadata": {
  "kernelspec": {
   "display_name": "Python 3 (ipykernel)",
   "language": "python",
   "name": "python3"
  },
  "language_info": {
   "codemirror_mode": {
    "name": "ipython",
    "version": 3
   },
   "file_extension": ".py",
   "mimetype": "text/x-python",
   "name": "python",
   "nbconvert_exporter": "python",
   "pygments_lexer": "ipython3",
   "version": "3.9.7"
  }
 },
 "nbformat": 4,
 "nbformat_minor": 5
}
