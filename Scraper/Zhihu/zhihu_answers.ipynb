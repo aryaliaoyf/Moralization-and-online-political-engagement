{
 "cells": [
  {
   "cell_type": "code",
   "execution_count": 1,
   "id": "94057a34-4615-47cd-9594-ea4a035c0252",
   "metadata": {},
   "outputs": [],
   "source": [
    "from selenium import webdriver\n",
    "from webdriver_manager.chrome import ChromeDriverManager\n",
    "from selenium.webdriver.chrome.service import Service\n",
    "from time import sleep\n",
    "from selenium.webdriver.common.by import By\n",
    "import pandas as pd\n",
    "import csv, os\n",
    "import requests\n",
    "from lxml import etree\n",
    "import re"
   ]
  },
  {
   "cell_type": "code",
   "execution_count": 2,
   "id": "d7903cfc-e926-40cb-9dfd-bc81def3cce3",
   "metadata": {},
   "outputs": [],
   "source": [
    "def get_answer(answer):\n",
    "    texts = answer.find_element(By.CLASS_NAME,'RichContent-inner').text.replace('\\n','')\n",
    "\n",
    "    upvote_count = answer.find_element(By.XPATH,\".//div[@class='ContentItem AnswerItem']/meta[@itemprop='upvoteCount']\").get_attribute('content')\n",
    "    url = answer.find_element(By.XPATH,\".//div[@class='ContentItem AnswerItem']/meta[@itemprop='url']\").get_attribute('content')\n",
    "    time_modified = answer.find_element(By.XPATH,\".//div[@class='ContentItem AnswerItem']/meta[@itemprop='dateModified']\").get_attribute('content')\n",
    "    time_created = answer.find_element(By.XPATH,\".//div[@class='ContentItem AnswerItem']/meta[@itemprop='dateCreated']\").get_attribute('content')\n",
    "    comment_count = answer.find_element(By.XPATH,\".//div[@class='ContentItem AnswerItem']/meta[@itemprop='commentCount']\").get_attribute('content')\n",
    "\n",
    "    author_url = answer.find_element(By.XPATH,\".//div[@class='AuthorInfo']/meta[@itemprop='url']\").get_attribute('content')\n",
    "    res = requests.get(author_url)\n",
    "    if gender := re.search(r'<meta itemProp=\"gender\" content=\"(\\w+)\"',res.text, re.IGNORECASE):\n",
    "        gender = gender.group(1)\n",
    "    if followers := re.search(r'<meta itemProp=\"zhihu:followerCount\" content=\"(\\d*)\"',res.text, re.IGNORECASE):\n",
    "        followers = int(followers.group(1))\n",
    "    if location := re.search(r'\"ipInfo\":\"IP 属地(.*)\",\"vip',res.text, re.IGNORECASE):\n",
    "        location = location.group(1)\n",
    "    if following := re.search(r'关注了</div><strong class=\"NumberBoard-itemValue\" title=\"(\\d+)\">',res.text, re.IGNORECASE):\n",
    "        following = int(following.group(1))\n",
    "    \n",
    "    info = {'texts':texts, 'url':url, 'upvote_count':upvote_count,'time_modified':time_modified,\n",
    "            'comment_count':comment_count,'author_info':author_url,\n",
    "            'author_gender':gender,'author_followers':followers,'author_following':following,'author_location':location}\n",
    "    return info"
   ]
  },
  {
   "cell_type": "code",
   "execution_count": 3,
   "id": "b25dab74-9b02-4dec-a5d8-1023fa51ecaf",
   "metadata": {},
   "outputs": [],
   "source": [
    "js=\"window.scrollTo(0,document.body.scrollHeight)\"\n",
    "savefile = 'zhihu/zhihu.csv'"
   ]
  },
  {
   "cell_type": "code",
   "execution_count": 8,
   "id": "5ab7b5f6-6f09-4d65-91ba-6ef0df9f5a18",
   "metadata": {},
   "outputs": [
    {
     "data": {
      "text/plain": [
       "35"
      ]
     },
     "execution_count": 8,
     "metadata": {},
     "output_type": "execute_result"
    }
   ],
   "source": [
    "with open('zhihu/Zhihu_completed.txt', 'r') as f:\n",
    "    urls_finished = f.readlines()  # Read all lines in the file\n",
    "urls_finished = [url.strip() for url in urls_finished]\n",
    "\n",
    "with open('zhihu/Zhihu_all_questions_urls.txt', 'r') as f:\n",
    "    urls = f.readlines()  # Read all lines in the file\n",
    "urls = [url.strip() for url in urls]\n",
    "urls = [url for url in urls if url not in urls_finished]\n",
    "len(urls)"
   ]
  },
  {
   "cell_type": "code",
   "execution_count": 9,
   "id": "bdb33d18-41a5-4df9-a27c-48e2fe77782e",
   "metadata": {},
   "outputs": [
    {
     "name": "stdout",
     "output_type": "stream",
     "text": [
      "https://www.zhihu.com/question/505604652\n",
      "\n"
     ]
    },
    {
     "name": "stderr",
     "output_type": "stream",
     "text": [
      "[WDM] - ====== WebDriver manager ======\n",
      "[WDM] - Current google-chrome version is 113.0.5672\n",
      "[WDM] - Get LATEST chromedriver version for 113.0.5672 google-chrome\n",
      "[WDM] - Driver [/Users/liaoyufang/.wdm/drivers/chromedriver/mac64/113.0.5672.63/chromedriver] found in cache\n",
      "/var/folders/8v/xpk1jpgx2kbgxh9xl6dwblt00000gp/T/ipykernel_70978/3750717278.py:10: DeprecationWarning: executable_path has been deprecated, please pass in a Service object\n",
      "  driver = webdriver.Chrome(ChromeDriverManager().install())\n"
     ]
    },
    {
     "name": "stdout",
     "output_type": "stream",
     "text": [
      "2\n",
      "https://www.zhihu.com/question/465941960\n",
      "\n"
     ]
    },
    {
     "name": "stderr",
     "output_type": "stream",
     "text": [
      "[WDM] - ====== WebDriver manager ======\n",
      "[WDM] - Current google-chrome version is 113.0.5672\n",
      "[WDM] - Get LATEST chromedriver version for 113.0.5672 google-chrome\n",
      "[WDM] - Driver [/Users/liaoyufang/.wdm/drivers/chromedriver/mac64/113.0.5672.63/chromedriver] found in cache\n"
     ]
    },
    {
     "name": "stdout",
     "output_type": "stream",
     "text": [
      "3\n",
      "https://www.zhihu.com/question/461626026\n",
      "\n"
     ]
    },
    {
     "name": "stderr",
     "output_type": "stream",
     "text": [
      "[WDM] - ====== WebDriver manager ======\n",
      "[WDM] - Current google-chrome version is 113.0.5672\n",
      "[WDM] - Get LATEST chromedriver version for 113.0.5672 google-chrome\n",
      "[WDM] - Driver [/Users/liaoyufang/.wdm/drivers/chromedriver/mac64/113.0.5672.63/chromedriver] found in cache\n"
     ]
    },
    {
     "name": "stdout",
     "output_type": "stream",
     "text": [
      "6\n",
      "https://www.zhihu.com/question/384028868\n",
      "\n"
     ]
    },
    {
     "name": "stderr",
     "output_type": "stream",
     "text": [
      "[WDM] - ====== WebDriver manager ======\n",
      "[WDM] - Current google-chrome version is 113.0.5672\n",
      "[WDM] - Get LATEST chromedriver version for 113.0.5672 google-chrome\n",
      "[WDM] - Driver [/Users/liaoyufang/.wdm/drivers/chromedriver/mac64/113.0.5672.63/chromedriver] found in cache\n"
     ]
    },
    {
     "name": "stdout",
     "output_type": "stream",
     "text": [
      "3\n",
      "https://www.zhihu.com/question/456046161\n",
      "\n"
     ]
    },
    {
     "name": "stderr",
     "output_type": "stream",
     "text": [
      "[WDM] - ====== WebDriver manager ======\n",
      "[WDM] - Current google-chrome version is 113.0.5672\n",
      "[WDM] - Get LATEST chromedriver version for 113.0.5672 google-chrome\n",
      "[WDM] - Driver [/Users/liaoyufang/.wdm/drivers/chromedriver/mac64/113.0.5672.63/chromedriver] found in cache\n"
     ]
    },
    {
     "name": "stdout",
     "output_type": "stream",
     "text": [
      "119\n",
      "https://www.zhihu.com/question/452821182\n",
      "\n"
     ]
    },
    {
     "name": "stderr",
     "output_type": "stream",
     "text": [
      "[WDM] - ====== WebDriver manager ======\n",
      "[WDM] - Current google-chrome version is 113.0.5672\n",
      "[WDM] - Get LATEST chromedriver version for 113.0.5672 google-chrome\n",
      "[WDM] - Driver [/Users/liaoyufang/.wdm/drivers/chromedriver/mac64/113.0.5672.63/chromedriver] found in cache\n"
     ]
    },
    {
     "name": "stdout",
     "output_type": "stream",
     "text": [
      "3\n",
      "https://www.zhihu.com/question/468428754\n",
      "\n"
     ]
    },
    {
     "name": "stderr",
     "output_type": "stream",
     "text": [
      "[WDM] - ====== WebDriver manager ======\n",
      "[WDM] - Current google-chrome version is 113.0.5672\n",
      "[WDM] - Get LATEST chromedriver version for 113.0.5672 google-chrome\n",
      "[WDM] - Driver [/Users/liaoyufang/.wdm/drivers/chromedriver/mac64/113.0.5672.63/chromedriver] found in cache\n"
     ]
    },
    {
     "name": "stdout",
     "output_type": "stream",
     "text": [
      "3\n",
      "https://www.zhihu.com/question/345816520\n",
      "\n"
     ]
    },
    {
     "name": "stderr",
     "output_type": "stream",
     "text": [
      "[WDM] - ====== WebDriver manager ======\n",
      "[WDM] - Current google-chrome version is 113.0.5672\n",
      "[WDM] - Get LATEST chromedriver version for 113.0.5672 google-chrome\n",
      "[WDM] - Driver [/Users/liaoyufang/.wdm/drivers/chromedriver/mac64/113.0.5672.63/chromedriver] found in cache\n"
     ]
    },
    {
     "name": "stdout",
     "output_type": "stream",
     "text": [
      "13\n",
      "https://www.zhihu.com/question/488808001\n",
      "\n"
     ]
    },
    {
     "name": "stderr",
     "output_type": "stream",
     "text": [
      "[WDM] - ====== WebDriver manager ======\n",
      "[WDM] - Current google-chrome version is 113.0.5672\n",
      "[WDM] - Get LATEST chromedriver version for 113.0.5672 google-chrome\n",
      "[WDM] - Driver [/Users/liaoyufang/.wdm/drivers/chromedriver/mac64/113.0.5672.63/chromedriver] found in cache\n"
     ]
    },
    {
     "name": "stdout",
     "output_type": "stream",
     "text": [
      "3\n",
      "https://www.zhihu.com/question/430509095\n",
      "\n"
     ]
    },
    {
     "name": "stderr",
     "output_type": "stream",
     "text": [
      "[WDM] - ====== WebDriver manager ======\n",
      "[WDM] - Current google-chrome version is 113.0.5672\n",
      "[WDM] - Get LATEST chromedriver version for 113.0.5672 google-chrome\n",
      "[WDM] - Driver [/Users/liaoyufang/.wdm/drivers/chromedriver/mac64/113.0.5672.63/chromedriver] found in cache\n"
     ]
    },
    {
     "name": "stdout",
     "output_type": "stream",
     "text": [
      "15\n",
      "https://www.zhihu.com/question/510140130\n",
      "\n"
     ]
    },
    {
     "name": "stderr",
     "output_type": "stream",
     "text": [
      "[WDM] - ====== WebDriver manager ======\n",
      "[WDM] - Current google-chrome version is 113.0.5672\n",
      "[WDM] - Get LATEST chromedriver version for 113.0.5672 google-chrome\n",
      "[WDM] - Driver [/Users/liaoyufang/.wdm/drivers/chromedriver/mac64/113.0.5672.63/chromedriver] found in cache\n"
     ]
    },
    {
     "name": "stdout",
     "output_type": "stream",
     "text": [
      "3\n",
      "https://www.zhihu.com/question/397123298\n",
      "\n"
     ]
    },
    {
     "name": "stderr",
     "output_type": "stream",
     "text": [
      "[WDM] - ====== WebDriver manager ======\n",
      "[WDM] - Current google-chrome version is 113.0.5672\n",
      "[WDM] - Get LATEST chromedriver version for 113.0.5672 google-chrome\n",
      "[WDM] - Driver [/Users/liaoyufang/.wdm/drivers/chromedriver/mac64/113.0.5672.63/chromedriver] found in cache\n"
     ]
    },
    {
     "name": "stdout",
     "output_type": "stream",
     "text": [
      "3\n",
      "https://www.zhihu.com/question/461827705\n",
      "\n"
     ]
    },
    {
     "name": "stderr",
     "output_type": "stream",
     "text": [
      "[WDM] - ====== WebDriver manager ======\n",
      "[WDM] - Current google-chrome version is 113.0.5672\n",
      "[WDM] - Get LATEST chromedriver version for 113.0.5672 google-chrome\n",
      "[WDM] - Driver [/Users/liaoyufang/.wdm/drivers/chromedriver/mac64/113.0.5672.63/chromedriver] found in cache\n"
     ]
    },
    {
     "name": "stdout",
     "output_type": "stream",
     "text": [
      "12\n",
      "https://www.zhihu.com/question/358707090\n",
      "\n"
     ]
    },
    {
     "name": "stderr",
     "output_type": "stream",
     "text": [
      "[WDM] - ====== WebDriver manager ======\n",
      "[WDM] - Current google-chrome version is 113.0.5672\n",
      "[WDM] - Get LATEST chromedriver version for 113.0.5672 google-chrome\n",
      "[WDM] - Driver [/Users/liaoyufang/.wdm/drivers/chromedriver/mac64/113.0.5672.63/chromedriver] found in cache\n"
     ]
    },
    {
     "name": "stdout",
     "output_type": "stream",
     "text": [
      "3\n",
      "https://www.zhihu.com/question/327729729\n",
      "\n"
     ]
    },
    {
     "name": "stderr",
     "output_type": "stream",
     "text": [
      "[WDM] - ====== WebDriver manager ======\n",
      "[WDM] - Current google-chrome version is 113.0.5672\n",
      "[WDM] - Get LATEST chromedriver version for 113.0.5672 google-chrome\n",
      "[WDM] - Driver [/Users/liaoyufang/.wdm/drivers/chromedriver/mac64/113.0.5672.63/chromedriver] found in cache\n"
     ]
    },
    {
     "name": "stdout",
     "output_type": "stream",
     "text": [
      "3\n",
      "https://www.zhihu.com/question/510563032\n",
      "\n"
     ]
    },
    {
     "name": "stderr",
     "output_type": "stream",
     "text": [
      "[WDM] - ====== WebDriver manager ======\n",
      "[WDM] - Current google-chrome version is 113.0.5672\n",
      "[WDM] - Get LATEST chromedriver version for 113.0.5672 google-chrome\n",
      "[WDM] - Driver [/Users/liaoyufang/.wdm/drivers/chromedriver/mac64/113.0.5672.63/chromedriver] found in cache\n"
     ]
    },
    {
     "name": "stdout",
     "output_type": "stream",
     "text": [
      "3\n",
      "https://www.zhihu.com/question/460133711\n",
      "\n"
     ]
    },
    {
     "name": "stderr",
     "output_type": "stream",
     "text": [
      "[WDM] - ====== WebDriver manager ======\n",
      "[WDM] - Current google-chrome version is 113.0.5672\n",
      "[WDM] - Get LATEST chromedriver version for 113.0.5672 google-chrome\n",
      "[WDM] - Driver [/Users/liaoyufang/.wdm/drivers/chromedriver/mac64/113.0.5672.63/chromedriver] found in cache\n"
     ]
    },
    {
     "name": "stdout",
     "output_type": "stream",
     "text": [
      "23\n",
      "https://www.zhihu.com/question/414084271\n",
      "\n"
     ]
    },
    {
     "name": "stderr",
     "output_type": "stream",
     "text": [
      "[WDM] - ====== WebDriver manager ======\n",
      "[WDM] - Current google-chrome version is 113.0.5672\n",
      "[WDM] - Get LATEST chromedriver version for 113.0.5672 google-chrome\n",
      "[WDM] - Driver [/Users/liaoyufang/.wdm/drivers/chromedriver/mac64/113.0.5672.63/chromedriver] found in cache\n"
     ]
    },
    {
     "name": "stdout",
     "output_type": "stream",
     "text": [
      "12\n",
      "https://www.zhihu.com/question/458861443\n",
      "\n"
     ]
    },
    {
     "name": "stderr",
     "output_type": "stream",
     "text": [
      "[WDM] - ====== WebDriver manager ======\n",
      "[WDM] - Current google-chrome version is 113.0.5672\n",
      "[WDM] - Get LATEST chromedriver version for 113.0.5672 google-chrome\n",
      "[WDM] - Driver [/Users/liaoyufang/.wdm/drivers/chromedriver/mac64/113.0.5672.63/chromedriver] found in cache\n"
     ]
    },
    {
     "name": "stdout",
     "output_type": "stream",
     "text": [
      "16\n",
      "https://www.zhihu.com/question/458226657\n",
      "\n"
     ]
    },
    {
     "name": "stderr",
     "output_type": "stream",
     "text": [
      "[WDM] - ====== WebDriver manager ======\n",
      "[WDM] - Current google-chrome version is 113.0.5672\n",
      "[WDM] - Get LATEST chromedriver version for 113.0.5672 google-chrome\n",
      "[WDM] - About to download new driver from https://chromedriver.storage.googleapis.com/113.0.5672.63/chromedriver_mac64.zip\n",
      "[WDM] - Driver has been saved in cache [/Users/liaoyufang/.wdm/drivers/chromedriver/mac64/113.0.5672.63]\n"
     ]
    },
    {
     "name": "stdout",
     "output_type": "stream",
     "text": [
      "51\n",
      "https://www.zhihu.com/question/410821930\n",
      "\n"
     ]
    },
    {
     "name": "stderr",
     "output_type": "stream",
     "text": [
      "[WDM] - ====== WebDriver manager ======\n",
      "[WDM] - Current google-chrome version is 113.0.5672\n",
      "[WDM] - Get LATEST chromedriver version for 113.0.5672 google-chrome\n",
      "[WDM] - Driver [/Users/liaoyufang/.wdm/drivers/chromedriver/mac64/113.0.5672.63/chromedriver] found in cache\n"
     ]
    },
    {
     "name": "stdout",
     "output_type": "stream",
     "text": [
      "3\n",
      "https://www.zhihu.com/question/488440589\n",
      "\n"
     ]
    },
    {
     "name": "stderr",
     "output_type": "stream",
     "text": [
      "[WDM] - ====== WebDriver manager ======\n",
      "[WDM] - Current google-chrome version is 113.0.5672\n",
      "[WDM] - Get LATEST chromedriver version for 113.0.5672 google-chrome\n",
      "[WDM] - Driver [/Users/liaoyufang/.wdm/drivers/chromedriver/mac64/113.0.5672.63/chromedriver] found in cache\n"
     ]
    },
    {
     "name": "stdout",
     "output_type": "stream",
     "text": [
      "3\n",
      "https://www.zhihu.com/question/334149065\n",
      "\n"
     ]
    },
    {
     "name": "stderr",
     "output_type": "stream",
     "text": [
      "[WDM] - ====== WebDriver manager ======\n",
      "[WDM] - Current google-chrome version is 113.0.5672\n",
      "[WDM] - Get LATEST chromedriver version for 113.0.5672 google-chrome\n",
      "[WDM] - Driver [/Users/liaoyufang/.wdm/drivers/chromedriver/mac64/113.0.5672.63/chromedriver] found in cache\n"
     ]
    },
    {
     "name": "stdout",
     "output_type": "stream",
     "text": [
      "5\n",
      "https://www.zhihu.com/question/503735829\n",
      "\n"
     ]
    },
    {
     "name": "stderr",
     "output_type": "stream",
     "text": [
      "[WDM] - ====== WebDriver manager ======\n",
      "[WDM] - Current google-chrome version is 113.0.5672\n",
      "[WDM] - Get LATEST chromedriver version for 113.0.5672 google-chrome\n",
      "[WDM] - Driver [/Users/liaoyufang/.wdm/drivers/chromedriver/mac64/113.0.5672.63/chromedriver] found in cache\n"
     ]
    },
    {
     "name": "stdout",
     "output_type": "stream",
     "text": [
      "1\n",
      "https://www.zhihu.com/question/360880852\n",
      "\n"
     ]
    },
    {
     "name": "stderr",
     "output_type": "stream",
     "text": [
      "[WDM] - ====== WebDriver manager ======\n",
      "[WDM] - Current google-chrome version is 113.0.5672\n",
      "[WDM] - Get LATEST chromedriver version for 113.0.5672 google-chrome\n",
      "[WDM] - Driver [/Users/liaoyufang/.wdm/drivers/chromedriver/mac64/113.0.5672.63/chromedriver] found in cache\n"
     ]
    },
    {
     "name": "stdout",
     "output_type": "stream",
     "text": [
      "10\n",
      "https://www.zhihu.com/question/481252479\n",
      "\n"
     ]
    },
    {
     "name": "stderr",
     "output_type": "stream",
     "text": [
      "[WDM] - ====== WebDriver manager ======\n",
      "[WDM] - Current google-chrome version is 113.0.5672\n",
      "[WDM] - Get LATEST chromedriver version for 113.0.5672 google-chrome\n",
      "[WDM] - Driver [/Users/liaoyufang/.wdm/drivers/chromedriver/mac64/113.0.5672.63/chromedriver] found in cache\n"
     ]
    },
    {
     "name": "stdout",
     "output_type": "stream",
     "text": [
      "11\n",
      "https://www.zhihu.com/question/456021877\n",
      "\n"
     ]
    },
    {
     "name": "stderr",
     "output_type": "stream",
     "text": [
      "[WDM] - ====== WebDriver manager ======\n",
      "[WDM] - Current google-chrome version is 113.0.5672\n",
      "[WDM] - Get LATEST chromedriver version for 113.0.5672 google-chrome\n",
      "[WDM] - Driver [/Users/liaoyufang/.wdm/drivers/chromedriver/mac64/113.0.5672.63/chromedriver] found in cache\n"
     ]
    },
    {
     "name": "stdout",
     "output_type": "stream",
     "text": [
      "1\n",
      "https://www.zhihu.com/question/407174104\n",
      "\n"
     ]
    },
    {
     "name": "stderr",
     "output_type": "stream",
     "text": [
      "[WDM] - ====== WebDriver manager ======\n",
      "[WDM] - Current google-chrome version is 113.0.5672\n",
      "[WDM] - Get LATEST chromedriver version for 113.0.5672 google-chrome\n",
      "[WDM] - Driver [/Users/liaoyufang/.wdm/drivers/chromedriver/mac64/113.0.5672.63/chromedriver] found in cache\n"
     ]
    },
    {
     "name": "stdout",
     "output_type": "stream",
     "text": [
      "139\n",
      "https://www.zhihu.com/question/503071966\n",
      "\n"
     ]
    },
    {
     "name": "stderr",
     "output_type": "stream",
     "text": [
      "[WDM] - ====== WebDriver manager ======\n",
      "[WDM] - Current google-chrome version is 113.0.5672\n",
      "[WDM] - Get LATEST chromedriver version for 113.0.5672 google-chrome\n",
      "[WDM] - Driver [/Users/liaoyufang/.wdm/drivers/chromedriver/mac64/113.0.5672.63/chromedriver] found in cache\n"
     ]
    },
    {
     "name": "stdout",
     "output_type": "stream",
     "text": [
      "46\n",
      "https://www.zhihu.com/question/458246505\n",
      "\n"
     ]
    },
    {
     "name": "stderr",
     "output_type": "stream",
     "text": [
      "[WDM] - ====== WebDriver manager ======\n",
      "[WDM] - Current google-chrome version is 113.0.5672\n",
      "[WDM] - Get LATEST chromedriver version for 113.0.5672 google-chrome\n",
      "[WDM] - Driver [/Users/liaoyufang/.wdm/drivers/chromedriver/mac64/113.0.5672.63/chromedriver] found in cache\n"
     ]
    },
    {
     "name": "stdout",
     "output_type": "stream",
     "text": [
      "25\n",
      "https://www.zhihu.com/question/455044850\n",
      "\n"
     ]
    },
    {
     "name": "stderr",
     "output_type": "stream",
     "text": [
      "[WDM] - ====== WebDriver manager ======\n",
      "[WDM] - Current google-chrome version is 113.0.5672\n",
      "[WDM] - Get LATEST chromedriver version for 113.0.5672 google-chrome\n",
      "[WDM] - Driver [/Users/liaoyufang/.wdm/drivers/chromedriver/mac64/113.0.5672.63/chromedriver] found in cache\n"
     ]
    },
    {
     "name": "stdout",
     "output_type": "stream",
     "text": [
      "3\n",
      "https://www.zhihu.com/question/415948399\n",
      "\n"
     ]
    },
    {
     "name": "stderr",
     "output_type": "stream",
     "text": [
      "[WDM] - ====== WebDriver manager ======\n",
      "[WDM] - Current google-chrome version is 113.0.5672\n",
      "[WDM] - Get LATEST chromedriver version for 113.0.5672 google-chrome\n",
      "[WDM] - Driver [/Users/liaoyufang/.wdm/drivers/chromedriver/mac64/113.0.5672.63/chromedriver] found in cache\n"
     ]
    },
    {
     "name": "stdout",
     "output_type": "stream",
     "text": [
      "628\n",
      "https://www.zhihu.com/question/452494488\n",
      "\n"
     ]
    },
    {
     "name": "stderr",
     "output_type": "stream",
     "text": [
      "[WDM] - ====== WebDriver manager ======\n",
      "[WDM] - Current google-chrome version is 113.0.5672\n",
      "[WDM] - Get LATEST chromedriver version for 113.0.5672 google-chrome\n",
      "[WDM] - Driver [/Users/liaoyufang/.wdm/drivers/chromedriver/mac64/113.0.5672.63/chromedriver] found in cache\n"
     ]
    },
    {
     "name": "stdout",
     "output_type": "stream",
     "text": [
      "7\n",
      "https://www.zhihu.com/question/388923063\n",
      "\n"
     ]
    },
    {
     "name": "stderr",
     "output_type": "stream",
     "text": [
      "[WDM] - ====== WebDriver manager ======\n",
      "[WDM] - Current google-chrome version is 113.0.5672\n",
      "[WDM] - Get LATEST chromedriver version for 113.0.5672 google-chrome\n",
      "[WDM] - Driver [/Users/liaoyufang/.wdm/drivers/chromedriver/mac64/113.0.5672.63/chromedriver] found in cache\n"
     ]
    },
    {
     "name": "stdout",
     "output_type": "stream",
     "text": [
      "20\n",
      "https://www.zhihu.com/question/489848447\n",
      "\n"
     ]
    },
    {
     "name": "stderr",
     "output_type": "stream",
     "text": [
      "[WDM] - ====== WebDriver manager ======\n",
      "[WDM] - Current google-chrome version is 113.0.5672\n",
      "[WDM] - Get LATEST chromedriver version for 113.0.5672 google-chrome\n",
      "[WDM] - Driver [/Users/liaoyufang/.wdm/drivers/chromedriver/mac64/113.0.5672.63/chromedriver] found in cache\n"
     ]
    },
    {
     "name": "stdout",
     "output_type": "stream",
     "text": [
      "182\n"
     ]
    }
   ],
   "source": [
    "with open(savefile, 'a+') as f:\n",
    "    header = ['title','question_url','total_answers','index','texts','url','upvote_count','time_modified',\n",
    "              'comment_count','author_info','author_gender','author_followers','author_following','author_location']\n",
    "    writer = csv.DictWriter(f, delimiter=',', lineterminator='\\n',fieldnames=header)\n",
    "    if not os.path.getsize(savefile):\n",
    "        writer.writeheader()\n",
    "\n",
    "    for url in urls:\n",
    "        print(url)\n",
    "        driver = webdriver.Chrome(ChromeDriverManager().install())\n",
    "        driver.get(url)\n",
    "\n",
    "        # close the login in window (doesn't influence scraping)\n",
    "        driver.find_element(By.XPATH, \"//button[@aria-label='关闭'][@type='button']\").click()\n",
    "\n",
    "        # get meta info\n",
    "        title = driver.find_element(By.XPATH, \"//meta[@itemprop='name']\").get_attribute('content')\n",
    "        num_str = driver.find_element(By.XPATH, \"//h4[@class='List-headerText']\").text\n",
    "        num = int(num_str.split(' ')[0])\n",
    "\n",
    "        i = 0\n",
    "        while(1):\n",
    "            while(1):\n",
    "                try:\n",
    "                    answer = driver.find_element(By.XPATH, f\"//div[@class='List-item'][{i+1}]\")\n",
    "                except:\n",
    "                    break\n",
    "                info = get_answer(answer)\n",
    "                info['title'] = title\n",
    "                info['question_url'] = url\n",
    "                info['total_answers'] = num\n",
    "                info['index'] = i\n",
    "                writer.writerow(info)\n",
    "                #save_data = save_data.append(info,ignore_index=True)\n",
    "                i += 1\n",
    "                if i == 3: break\n",
    "\n",
    "            if driver.find_elements(By.XPATH, \"//div[@data-za-detail-view-path-module='BottomBar']\"):\n",
    "                print(i)\n",
    "                break\n",
    "            driver.execute_script(js)\n",
    "            driver.execute_script('window.scrollBy(0,-500)')\n",
    "            driver.execute_script(js)\n",
    "            sleep(5)\n",
    "        with open('zhihu/Zhihu_completed.txt', 'a+') as fi:\n",
    "            fi.write(url+'\\n')\n",
    "        sleep(30)"
   ]
  },
  {
   "cell_type": "code",
   "execution_count": null,
   "id": "467555d6-1db5-4ff6-9df0-1b537e08534d",
   "metadata": {},
   "outputs": [],
   "source": []
  }
 ],
 "metadata": {
  "kernelspec": {
   "display_name": "Python 3 (ipykernel)",
   "language": "python",
   "name": "python3"
  },
  "language_info": {
   "codemirror_mode": {
    "name": "ipython",
    "version": 3
   },
   "file_extension": ".py",
   "mimetype": "text/x-python",
   "name": "python",
   "nbconvert_exporter": "python",
   "pygments_lexer": "ipython3",
   "version": "3.9.7"
  }
 },
 "nbformat": 4,
 "nbformat_minor": 5
}
