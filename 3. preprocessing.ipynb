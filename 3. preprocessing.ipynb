{
 "cells": [
  {
   "cell_type": "code",
   "execution_count": 1,
   "id": "cf1f9b7f-9801-4091-a7dc-701e73b6cb7b",
   "metadata": {},
   "outputs": [],
   "source": [
    "import pandas as pd\n",
    "import re"
   ]
  },
  {
   "cell_type": "code",
   "execution_count": 2,
   "id": "6fc0eb37-0b36-48de-8e8a-d0f5bcd5c3ac",
   "metadata": {},
   "outputs": [],
   "source": [
    "def extract_chinese_words(text):\n",
    "    pattern = r'([\\u4e00-\\u9fff]+)'  # 匹配中文字符的正则表达式\n",
    "    matches = ''\n",
    "    if type(text) == str:\n",
    "        matches = re.findall(pattern, text)[0]\n",
    "    return matches"
   ]
  },
  {
   "cell_type": "markdown",
   "id": "f20d56a2-4bab-4b4c-a5ba-b2dff7c5fb89",
   "metadata": {},
   "source": [
    "## Zhihu"
   ]
  },
  {
   "cell_type": "markdown",
   "id": "04c79bcf-9c50-43d0-9098-db96cdb7a190",
   "metadata": {},
   "source": [
    "### answers"
   ]
  },
  {
   "cell_type": "code",
   "execution_count": 3,
   "id": "50f75b38-4e3f-43bd-80c2-26cedff9e1b3",
   "metadata": {},
   "outputs": [
    {
     "name": "stdout",
     "output_type": "stream",
     "text": [
      "9534\n",
      "9431 Index(['title', 'question_url', 'total_answers', 'index', 'post_content',\n",
      "       'url', 'upvote_count', 'time_modified', 'comment_count', 'author_info',\n",
      "       'author_gender', 'author_followers', 'author_following',\n",
      "       'author_location', 'root_comment', 'answer_id', 'date', 'month', 'year',\n",
      "       'ID', 'answer_content', 'platform', 'type', 'text_len', 'month_float'],\n",
      "      dtype='object')\n"
     ]
    }
   ],
   "source": [
    "zh_answers = pd.read_csv('Scraper/zhihu/zhihu.csv')\n",
    "print(len(zh_answers))\n",
    "zh_answers = zh_answers.drop_duplicates('answer_id').rename(columns = {'texts':'post_content'})\n",
    "zh_answers = zh_answers[~zh_answers['post_content'].isnull()]\n",
    "zh_answers['author_location'] = zh_answers['author_location'].apply(lambda x: extract_chinese_words(x))\n",
    "zh_answers['date'] = zh_answers['time_modified'].str[:10]\n",
    "zh_answers['month'] = zh_answers['time_modified'].str[:7]\n",
    "zh_answers['year'] = zh_answers['time_modified'].str[:4]\n",
    "zh_answers['ID'] = 'zh_'+zh_answers['answer_id'].apply(str)\n",
    "zh_answers['answer_content'] = 'None'\n",
    "zh_answers['author_gender'] = zh_answers['author_gender'].replace({'Male':'m','Female':'f'})\n",
    "zh_answers['platform'] = 'zhihu'\n",
    "zh_answers['type'] = 'answers'\n",
    "zh_answers['text_len'] = zh_answers['post_content'].apply(lambda x: len(x))\n",
    "zh_answers['month_float'] = zh_answers['month'].apply(lambda x: float(x.replace('-', '.')))\n",
    "print(len(zh_answers), zh_answers.columns)\n",
    "zh_answers.to_csv('data/zhihu_answers.csv',index=False)"
   ]
  },
  {
   "cell_type": "markdown",
   "id": "6fff0f84-fb8e-4dc6-817a-39cb7757faf3",
   "metadata": {},
   "source": [
    "### comments"
   ]
  },
  {
   "cell_type": "code",
   "execution_count": 4,
   "id": "73d9d50d-5622-4706-9cde-198f99053d06",
   "metadata": {},
   "outputs": [
    {
     "name": "stdout",
     "output_type": "stream",
     "text": [
      "18267\n",
      "18061 Index(['title', 'question_url', 'answer_id', 'post_content', 'comment_id',\n",
      "       'created_time', 'comment_content', 'comment_upvote',\n",
      "       'child_comments_count', 'author_info', 'author_gender', 'time', 'year',\n",
      "       'month', 'date', 'url', 'ID', 'platform', 'type', 'text_len',\n",
      "       'month_float'],\n",
      "      dtype='object')\n"
     ]
    }
   ],
   "source": [
    "zh_comments = pd.read_csv('Scraper/zhihu/zhihu_comments.csv').rename(columns = {'answer_content':'post_content'})\n",
    "print(len(zh_comments))\n",
    "zh_comments = zh_comments.drop_duplicates('comment_id')\n",
    "zh_comments['comment_content'] = zh_comments['comment_content'].replace(r'<[\\/]?p>', '', regex=True)\n",
    "zh_comments = zh_comments[~zh_comments['comment_content'].isnull()]\n",
    "zh_comments['time'] = pd.to_datetime(zh_comments['created_time'], unit='s')\n",
    "zh_comments['year'] = zh_comments['time'].dt.strftime('%Y')\n",
    "zh_comments['month'] = zh_comments['year']+'-'+zh_comments['time'].dt.strftime('%m')\n",
    "zh_comments['date'] = zh_comments['month']+'-'+zh_comments['time'].dt.strftime('%d')\n",
    "zh_comments['url'] = zh_comments['question_url']+'/answer/'+zh_comments['answer_id'].apply(str)\n",
    "zh_comments['ID'] = 'zhcm_'+zh_comments['comment_id'].apply(str)\n",
    "zh_comments['platform'] = 'zhihu'\n",
    "zh_comments['type'] = 'comments'\n",
    "zh_comments['author_gender'] = zh_comments['author_gender'].replace({-1:'unknown',1:'m',0:'f'})\n",
    "zh_comments['text_len'] = zh_comments['comment_content'].apply(lambda x: len(x))\n",
    "zh_comments['month_float'] = zh_comments['month'].apply(lambda x: float(x.replace('-', '.')))\n",
    "print(len(zh_comments), zh_comments.columns)\n",
    "zh_comments.to_csv('data/zhihu_comments.csv',index=False)"
   ]
  },
  {
   "cell_type": "markdown",
   "id": "d144b25e-4608-4944-87b9-5ac24ab92faa",
   "metadata": {},
   "source": [
    "## Weibo"
   ]
  },
  {
   "cell_type": "code",
   "execution_count": 5,
   "id": "115b0e34-5c11-44aa-9f09-64d4d6509aaf",
   "metadata": {},
   "outputs": [
    {
     "name": "stderr",
     "output_type": "stream",
     "text": [
      "/Users/liaoyufang/opt/anaconda3/lib/python3.9/site-packages/IPython/core/interactiveshell.py:3444: DtypeWarning: Columns (11,12) have mixed types.Specify dtype option on import or set low_memory=False.\n",
      "  exec(code_obj, self.user_global_ns, self.user_ns)\n"
     ]
    }
   ],
   "source": [
    "weibo_box = pd.read_csv('Scraper/weibo/weibo_box.csv')\n",
    "weibo_box['keywords'] = '女拳'\n",
    "weibo_rights = pd.read_csv('Scraper/weibo/weibo.csv')\n",
    "weibo_rights['keywords'] = '女权'"
   ]
  },
  {
   "cell_type": "code",
   "execution_count": 6,
   "id": "e3ae70f1-3527-413f-bc74-f8b76910b4d2",
   "metadata": {},
   "outputs": [
    {
     "name": "stdout",
     "output_type": "stream",
     "text": [
      "472198\n"
     ]
    }
   ],
   "source": [
    "weibo = weibo_rights.append(weibo_box, ignore_index = True).rename(columns = {'text':'post_content'})\n",
    "print(len(weibo))"
   ]
  },
  {
   "cell_type": "code",
   "execution_count": 8,
   "id": "3ba3c8ff-4a25-43b1-8e21-6d41198c045c",
   "metadata": {},
   "outputs": [
    {
     "name": "stdout",
     "output_type": "stream",
     "text": [
      "371064 Index(['mid', 'post_content', 'time', 'favorite', 'like', 'comment', 'repost',\n",
      "       'author_uid', 'author_url', 'author_following', 'author_followers',\n",
      "       'author_gender', 'author_location', 'keywords', 'ID', 'date', 'month',\n",
      "       'year', 'answer_content', 'platform', 'type', 'text_len', 'month_float',\n",
      "       'answer_id', 'root_comment'],\n",
      "      dtype='object')\n"
     ]
    }
   ],
   "source": [
    "#remove reposts (considered as individual post before 2022)\n",
    "weibo = weibo[~weibo['post_content'].isna()]\n",
    "weibo = weibo[~weibo['post_content'].str.contains('//@')].drop_duplicates('mid')\n",
    "weibo = weibo[weibo['time'].str.startswith('20')].reset_index(drop=True)\n",
    "weibo['ID'] = 'wb_'+weibo['mid'].apply(str)\n",
    "\n",
    "weibo['date'] = weibo['time'].str[:10]\n",
    "weibo['month'] = weibo['time'].str[:7]\n",
    "weibo['year'] = weibo['time'].str[:4]\n",
    "weibo.loc[weibo['like'].isnull(), 'like'] = 0\n",
    "weibo.loc[weibo['comment'].isnull(), 'comment'] = 0\n",
    "weibo.loc[weibo['repost'].isnull(), 'repost'] = 0\n",
    "weibo['answer_content'] = 'None'\n",
    "weibo['platform'] = 'weibo'\n",
    "weibo['type'] = 'posts'\n",
    "weibo['text_len'] = weibo['post_content'].apply(lambda x: len(x))\n",
    "weibo['month_float'] = weibo['month'].apply(lambda x: float(x.replace('-', '.')))\n",
    "root_comment = pd.read_csv('Scraper/weibo/weibo_root_count.csv').append(pd.read_csv('Scraper/weibo/weibo_root_count_box.csv'))\n",
    "weibo = weibo.merge(root_comment, how = 'left',left_on = 'mid', right_on = 'answer_id')\n",
    "print(len(weibo),weibo.columns)\n",
    "weibo.to_csv('data/weibo_posts.csv',index=False)"
   ]
  },
  {
   "cell_type": "code",
   "execution_count": 9,
   "id": "33abd5fe-c5e8-44fe-b254-32609857a724",
   "metadata": {},
   "outputs": [],
   "source": [
    "weibo = pd.read_csv('data/weibo_posts_moral.csv')\n",
    "weibo = weibo[((weibo['post_content'].str.contains('女权'))|(weibo['post_content'].str.contains('女權'))|(weibo['post_content'].str.contains('女拳')))]\n",
    "weibo.to_csv('data/weibo_posts_moral.csv',index=False)"
   ]
  },
  {
   "cell_type": "code",
   "execution_count": 10,
   "id": "d0055b30-7a17-4ef4-bfdc-8ab8e7739f02",
   "metadata": {},
   "outputs": [
    {
     "data": {
      "text/plain": [
       "<AxesSubplot:xlabel='month'>"
      ]
     },
     "execution_count": 10,
     "metadata": {},
     "output_type": "execute_result"
    },
    {
     "data": {
      "image/png": "[encoded data removed]",
      "text/plain": [
       "<Figure size 432x288 with 1 Axes>"
      ]
     },
     "metadata": {
      "needs_background": "light"
     },
     "output_type": "display_data"
    }
   ],
   "source": [
    "weibo.groupby('month')['year'].count().plot.bar()"
   ]
  },
  {
   "cell_type": "code",
   "execution_count": 11,
   "id": "150f3890-9211-43b8-8cbb-a074d56aca35",
   "metadata": {},
   "outputs": [],
   "source": [
    "mon2num = {'Jan':'01','Feb':'02','Mar':'03','Apr':'04','May':'05','Jun':'06',\n",
    "           'Jul':'07','Aug':'08','Sep':'09','Oct':'10','Nov':'11','Dec':'12'}"
   ]
  },
  {
   "cell_type": "code",
   "execution_count": 12,
   "id": "9691725f-4c4d-403c-a416-5c150d0e4a0d",
   "metadata": {},
   "outputs": [],
   "source": [
    "weibo_comments_box = pd.read_csv('Scraper/weibo/weibo_comments_box.csv')\n",
    "weibo_comments_box['keywords'] = '女拳'\n",
    "\n",
    "weibo_comments_right = pd.read_csv('Scraper/weibo/weibo_comments.csv')\n",
    "weibo_comments_right['keywords'] = '女权'"
   ]
  },
  {
   "cell_type": "code",
   "execution_count": 13,
   "id": "8c460ff5-9908-4736-b15b-ea2f377b27d2",
   "metadata": {},
   "outputs": [],
   "source": [
    "weibo_comments = weibo_comments_right.append(weibo_comments_box, ignore_index = True).rename(columns = {'answer_content':'post_content'})"
   ]
  },
  {
   "cell_type": "code",
   "execution_count": 14,
   "id": "6a4457a7-4dcc-4e21-96ad-c4840651b6ff",
   "metadata": {},
   "outputs": [
    {
     "data": {
      "text/plain": [
       "576094"
      ]
     },
     "execution_count": 14,
     "metadata": {},
     "output_type": "execute_result"
    }
   ],
   "source": [
    "# remove empty and duplicates\n",
    "weibo_comments = weibo_comments.merge(weibo[['mid','author_uid']],how = 'left', left_on = 'answer_id', right_on = 'mid')\n",
    "weibo_comments = weibo_comments[~weibo_comments['comment_content'].isna()]\n",
    "weibo_comments = weibo_comments[~weibo_comments['answer_id'].isna()]\n",
    "weibo_comments = weibo_comments[~weibo_comments['comment_content'].str.contains('//@')]\n",
    "weibo_comments = weibo_comments[~weibo_comments['comment_content'].str.startswith('图片评论')]\n",
    "weibo_comments = weibo_comments[~weibo_comments['comment_content'].str.startswith('转发微博')]\n",
    "weibo_comments = weibo_comments[~(weibo_comments['comment_content'] == ' ')]\n",
    "\n",
    "weibo_comments = weibo_comments.drop_duplicates('comment_id').reset_index(drop=True)\n",
    "weibo_comments['ID'] = 'wbcm_'+weibo_comments['comment_id'].apply(str)\n",
    "\n",
    "weibo_comments['year'] = weibo_comments['created_time'].str[-4:]\n",
    "weibo_comments['month'] = weibo_comments['year']+'-'+weibo_comments['created_time'].str[4:7].replace(mon2num)\n",
    "weibo_comments['date'] = weibo_comments['month']+'-'+weibo_comments['created_time'].str[8:10]\n",
    "weibo_comments['platform'] = 'weibo'\n",
    "weibo_comments['type'] = 'comments'\n",
    "weibo_comments['text_len'] = weibo_comments['comment_content'].apply(lambda x: len(x))\n",
    "weibo_comments['month_float'] = weibo_comments['month'].apply(lambda x: float(x.replace('-', '.')))\n",
    "len(weibo_comments)"
   ]
  },
  {
   "cell_type": "markdown",
   "id": "8b49bba7-7b29-4afb-8a6f-a5037722a1fa",
   "metadata": {},
   "source": [
    "should have done this before, but didn't realize this problem, and rerunning the moralization measurement is really time consuming"
   ]
  },
  {
   "cell_type": "code",
   "execution_count": 15,
   "id": "c8bd86d4-d9db-4a94-b843-e501c3d3f4a6",
   "metadata": {},
   "outputs": [],
   "source": [
    "weibo_comments.to_csv('data/weibo_comments.csv',index=False)"
   ]
  },
  {
   "cell_type": "code",
   "execution_count": null,
   "id": "6cb9572b-bec2-4cfd-bb64-d29058ec2aa9",
   "metadata": {},
   "outputs": [],
   "source": [
    "weibo_comments = pd.read_csv('Scraper/data/weibo_comments_moral.csv')\n",
    "weibo_comments = weibo_comments[((weibo_comments['post_content'].str.contains('女权'))|(weibo_comments['post_content'].str.contains('女權'))|(weibo_comments['post_content'].str.contains('女拳')))]"
   ]
  }
 ],
 "metadata": {
  "kernelspec": {
   "display_name": "Python 3 (ipykernel)",
   "language": "python",
   "name": "python3"
  },
  "language_info": {
   "codemirror_mode": {
    "name": "ipython",
    "version": 3
   },
   "file_extension": ".py",
   "mimetype": "text/x-python",
   "name": "python",
   "nbconvert_exporter": "python",
   "pygments_lexer": "ipython3",
   "version": "3.9.7"
  }
 },
 "nbformat": 4,
 "nbformat_minor": 5
}
